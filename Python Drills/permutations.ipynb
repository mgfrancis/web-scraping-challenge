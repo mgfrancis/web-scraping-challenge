{
 "cells": [
  {
   "cell_type": "markdown",
   "metadata": {},
   "source": [
    "# String Permutations\n",
    "\n",
    "Given two strings, write a function to check if one string is a permutation of the other\n",
    "\n",
    "Example:\n",
    "```\n",
    "check_permutation(\"abc\", \"bca\")  # True\n",
    "check_permutation(\"abc\", \"abcd\") # False\n",
    "```"
   ]
  },
  {
   "cell_type": "markdown",
   "metadata": {},
   "source": [
    "### YOUR CODE HERE"
   ]
  },
  {
   "cell_type": "code",
   "execution_count": 61,
   "metadata": {},
   "outputs": [
    {
     "name": "stdout",
     "output_type": "stream",
     "text": [
      "\"bca\" is a permutation of \"abc\".\n",
      "\"abcd\" is not a permutation of \"abc\".\n"
     ]
    }
   ],
   "source": [
    "base = 'abc'\n",
    "string = ['bca','abcd']\n",
    "\n",
    "for i in string:\n",
    "    for n in range(len(i)):\n",
    "        if i[n] in base and n < (len(i)-1):\n",
    "            n + 1\n",
    "        \n",
    "        if i[n] in base and n == (len(i)-1):\n",
    "            print (f'\"{i}\" is a permutation of \"{base}\".')\n",
    "        \n",
    "        elif i[n] not in base:\n",
    "            print (f'\"{i}\" is not a permutation of \"{base}\".')\n",
    "        \n"
   ]
  }
 ],
 "metadata": {
  "kernelspec": {
   "display_name": "Python 3",
   "language": "python",
   "name": "python3"
  },
  "language_info": {
   "codemirror_mode": {
    "name": "ipython",
    "version": 3
   },
   "file_extension": ".py",
   "mimetype": "text/x-python",
   "name": "python",
   "nbconvert_exporter": "python",
   "pygments_lexer": "ipython3",
   "version": "3.8.3"
  },
  "varInspector": {
   "cols": {
    "lenName": 16,
    "lenType": 16,
    "lenVar": 40
   },
   "kernels_config": {
    "python": {
     "delete_cmd_postfix": "",
     "delete_cmd_prefix": "del ",
     "library": "var_list.py",
     "varRefreshCmd": "print(var_dic_list())"
    },
    "r": {
     "delete_cmd_postfix": ") ",
     "delete_cmd_prefix": "rm(",
     "library": "var_list.r",
     "varRefreshCmd": "cat(var_dic_list()) "
    }
   },
   "types_to_exclude": [
    "module",
    "function",
    "builtin_function_or_method",
    "instance",
    "_Feature"
   ],
   "window_display": false
  }
 },
 "nbformat": 4,
 "nbformat_minor": 2
}
