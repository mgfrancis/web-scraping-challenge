{
 "cells": [
  {
   "cell_type": "markdown",
   "metadata": {},
   "source": [
    "# Step 1 - Scraping"
   ]
  },
  {
   "cell_type": "markdown",
   "metadata": {},
   "source": [
    "# NASA MARS NEWS"
   ]
  },
  {
   "cell_type": "code",
   "execution_count": 1,
   "metadata": {},
   "outputs": [
    {
     "name": "stdout",
     "output_type": "stream",
     "text": [
      "Requirement already satisfied: bs4 in c:\\users\\opusm\\anaconda3\\lib\\site-packages (0.0.1)\n",
      "Requirement already satisfied: beautifulsoup4 in c:\\users\\opusm\\anaconda3\\lib\\site-packages (from bs4) (4.9.1)\n",
      "Requirement already satisfied: soupsieve>1.2 in c:\\users\\opusm\\anaconda3\\lib\\site-packages (from beautifulsoup4->bs4) (2.0.1)\n"
     ]
    }
   ],
   "source": [
    "!pip install bs4 --user"
   ]
  },
  {
   "cell_type": "code",
   "execution_count": 9,
   "metadata": {},
   "outputs": [],
   "source": [
    "# Dependencies\n",
    "from bs4 import BeautifulSoup\n",
    "import requests\n",
    "from splinter import Browser\n",
    "from webdriver_manager.chrome import ChromeDriverManager\n",
    "import time\n",
    "import pymongo\n",
    "import pandas as pd\n"
   ]
  },
  {
   "cell_type": "code",
   "execution_count": 10,
   "metadata": {},
   "outputs": [
    {
     "name": "stderr",
     "output_type": "stream",
     "text": [
      "[WDM] - Current google-chrome version is 87.0.4280\n",
      "[WDM] - Get LATEST driver version for 87.0.4280\n",
      "[WDM] - Driver [C:\\Users\\opusm\\.wdm\\drivers\\chromedriver\\win32\\87.0.4280.88\\chromedriver.exe] found in cache\n"
     ]
    },
    {
     "name": "stdout",
     "output_type": "stream",
     "text": [
      " \n"
     ]
    }
   ],
   "source": [
    "# Setup splinter\n",
    "executable_path = {'executable_path': ChromeDriverManager().install()}\n",
    "browser = Browser('chrome', **executable_path, headless=False)"
   ]
  },
  {
   "cell_type": "code",
   "execution_count": 11,
   "metadata": {},
   "outputs": [],
   "source": [
    "# URL of NASA MARS NEWS to be scraped\n",
    "def mars_news():\n",
    "    url = 'https://mars.nasa.gov/news/'\n",
    "    browser.visit(url)\n",
    "\n",
    "    html = browser.html\n",
    "    \n",
    "    news_soup = BeautifulSoup(html, 'html.parser')\n",
    "\n",
    "    article_container = news_soup.find('ul', class_='item_list')\n",
    "\n",
    "    headline_date = article_container.find('div', class_='list_date').text\n",
    "    news_title = article_container.find('div', class_='content_title').find('a').text\n",
    "    news_p = article_container.find('div', class_='article_teaser_body').text\n",
    "\n",
    "    return headline_date,news_title, news_p\n",
    "\n"
   ]
  },
  {
   "cell_type": "code",
   "execution_count": 12,
   "metadata": {},
   "outputs": [
    {
     "data": {
      "text/plain": [
       "('December 22, 2020',\n",
       " \"A Martian Roundtrip: NASA's Perseverance Rover Sample Tubes\",\n",
       " \"Marvels of engineering, the rover's sample tubes must be tough enough to safely bring Red Planet samples on the long journey back to Earth in immaculate condition. \")"
      ]
     },
     "execution_count": 12,
     "metadata": {},
     "output_type": "execute_result"
    }
   ],
   "source": [
    "mars_news()"
   ]
  },
  {
   "cell_type": "markdown",
   "metadata": {},
   "source": [
    "# JPL Mars Space Images"
   ]
  },
  {
   "cell_type": "code",
   "execution_count": 13,
   "metadata": {},
   "outputs": [
    {
     "name": "stderr",
     "output_type": "stream",
     "text": [
      "[WDM] - Current google-chrome version is 87.0.4280\n",
      "[WDM] - Get LATEST driver version for 87.0.4280\n",
      "[WDM] - Driver [C:\\Users\\opusm\\.wdm\\drivers\\chromedriver\\win32\\87.0.4280.88\\chromedriver.exe] found in cache\n"
     ]
    },
    {
     "name": "stdout",
     "output_type": "stream",
     "text": [
      " \n"
     ]
    }
   ],
   "source": [
    "# Setup splinter\n",
    "executable_path = {'executable_path': ChromeDriverManager().install()}\n",
    "browser = Browser('chrome', **executable_path, headless=False)"
   ]
  },
  {
   "cell_type": "code",
   "execution_count": 14,
   "metadata": {},
   "outputs": [
    {
     "name": "stdout",
     "output_type": "stream",
     "text": [
      "/spaceimages/images/wallpaper/PIA18292-1920x1200.jpg\n",
      "'NoneType' object is not subscriptable\n"
     ]
    },
    {
     "data": {
      "text/plain": [
       "'https://www.jp1.nasa.gov/spaceimages/images/wallpaper/PIA18292-1920x1200.jpg'"
      ]
     },
     "execution_count": 14,
     "metadata": {},
     "output_type": "execute_result"
    }
   ],
   "source": [
    "def featured_image():\n",
    "    \n",
    "    base_url = 'https://www.jp1.nasa.gov'\n",
    "\n",
    "    url = 'https://www.jpl.nasa.gov/spaceimages/?search=&category=Mars'\n",
    "    browser.visit(url)\n",
    "\n",
    "    html = browser.html\n",
    "    img_soup = BeautifulSoup(html, 'html.parser')\n",
    "\n",
    "    #method1 :parsing through the style attribute in the article tag\n",
    "    try:\n",
    "        img_elem = img_soup.find('article', class_='carousel_item')['style']\n",
    "        img_rel_url = img_elem.replace(\"background-image: url('\", '')\n",
    "        img_rel_url = img_rel_url.replace(\"');\",'')\n",
    "        print(img_rel_url)\n",
    "    except Exception as e:\n",
    "        print(e)\n",
    "\n",
    "    #method2: clicking the FULL TEXT button and pulling the image\n",
    "    try:\n",
    "        full_image_elem = browser.find_by_id('full_image')[0]\n",
    "        full_image_elem.click()\n",
    "\n",
    "        html= browser.html\n",
    "        img_soup = BeautifulSoup(html, 'html.parser')\n",
    "\n",
    "        img_rel_url = img_soup.find('img', class_='fancybox-image')['src']\n",
    "        print(img_rel_url)\n",
    "    except Exception as e:\n",
    "        print(e)\n",
    "\n",
    "    featured_image_url = f'{base_url}{img_rel_url}'\n",
    "\n",
    "    return(featured_image_url)\n",
    "\n",
    "featured_image()"
   ]
  },
  {
   "cell_type": "markdown",
   "metadata": {},
   "source": [
    "# Mars Facts - Using Pandas to scrape the table"
   ]
  },
  {
   "cell_type": "code",
   "execution_count": 15,
   "metadata": {},
   "outputs": [
    {
     "data": {
      "text/plain": [
       "'<table border=\"1\" class=\"dataframe table table-striped\">\\n  <thead>\\n    <tr style=\"text-align: right;\">\\n      <th></th>\\n      <th>Description</th>\\n      <th>Mars</th>\\n    </tr>\\n  </thead>\\n  <tbody>\\n    <tr>\\n      <th>0</th>\\n      <td>Equatorial Diameter:</td>\\n      <td>6,792 km</td>\\n    </tr>\\n    <tr>\\n      <th>1</th>\\n      <td>Polar Diameter:</td>\\n      <td>6,752 km</td>\\n    </tr>\\n    <tr>\\n      <th>2</th>\\n      <td>Mass:</td>\\n      <td>6.39 × 10^23 kg (0.11 Earths)</td>\\n    </tr>\\n    <tr>\\n      <th>3</th>\\n      <td>Moons:</td>\\n      <td>2 (Phobos &amp; Deimos)</td>\\n    </tr>\\n    <tr>\\n      <th>4</th>\\n      <td>Orbit Distance:</td>\\n      <td>227,943,824 km (1.38 AU)</td>\\n    </tr>\\n    <tr>\\n      <th>5</th>\\n      <td>Orbit Period:</td>\\n      <td>687 days (1.9 years)</td>\\n    </tr>\\n    <tr>\\n      <th>6</th>\\n      <td>Surface Temperature:</td>\\n      <td>-87 to -5 °C</td>\\n    </tr>\\n    <tr>\\n      <th>7</th>\\n      <td>First Record:</td>\\n      <td>2nd millennium BC</td>\\n    </tr>\\n    <tr>\\n      <th>8</th>\\n      <td>Recorded By:</td>\\n      <td>Egyptian astronomers</td>\\n    </tr>\\n  </tbody>\\n</table>'"
      ]
     },
     "execution_count": 15,
     "metadata": {},
     "output_type": "execute_result"
    }
   ],
   "source": [
    "def mars_facts():\n",
    "    url = 'https://space-facts.com/mars/'\n",
    "    browser.visit(url)\n",
    "\n",
    "    mars_facts_df = pd.read_html(url)\n",
    "    mars_facts_df = mars_facts_df[0]\n",
    "    mars_facts_df.columns = ['Description', 'Mars']\n",
    "    mars_facts_df\n",
    "    \n",
    "    mars_facts_html = mars_facts_df.to_html(classes='table table-striped')\n",
    "    \n",
    "    return mars_facts_html\n",
    "\n",
    "mars_facts()"
   ]
  },
  {
   "cell_type": "code",
   "execution_count": 16,
   "metadata": {},
   "outputs": [
    {
     "data": {
      "text/plain": [
       "<table class=\"tablepress tablepress-id-p-mars\" id=\"tablepress-p-mars\"><tbody><tr class=\"row-1 odd\"><td class=\"column-1\"><strong>Equatorial Diameter:</strong></td><td class=\"column-2\">6,792 km<br/></td></tr><tr class=\"row-2 even\"><td class=\"column-1\"><strong>Polar Diameter:</strong></td><td class=\"column-2\">6,752 km<br/></td></tr><tr class=\"row-3 odd\"><td class=\"column-1\"><strong>Mass:</strong></td><td class=\"column-2\">6.39 × 10^23 kg<br/> (0.11 Earths)</td></tr><tr class=\"row-4 even\"><td class=\"column-1\"><strong>Moons:</strong></td><td class=\"column-2\">2 (<a href=\"https://space-facts.com/moons/phobos/\">Phobos</a> &amp; <a href=\"https://space-facts.com/moons/deimos/\">Deimos</a>)</td></tr><tr class=\"row-5 odd\"><td class=\"column-1\"><strong>Orbit Distance:</strong></td><td class=\"column-2\">227,943,824 km<br/> (1.38 AU)</td></tr><tr class=\"row-6 even\"><td class=\"column-1\"><strong>Orbit Period:</strong></td><td class=\"column-2\">687 days (1.9 years)<br/></td></tr><tr class=\"row-7 odd\"><td class=\"column-1\"><strong>Surface Temperature: </strong></td><td class=\"column-2\">-87 to -5 °C</td></tr><tr class=\"row-8 even\"><td class=\"column-1\"><strong>First Record:</strong></td><td class=\"column-2\">2nd millennium BC</td></tr><tr class=\"row-9 odd\"><td class=\"column-1\"><strong>Recorded By:</strong></td><td class=\"column-2\">Egyptian astronomers</td></tr></tbody></table>"
      ]
     },
     "execution_count": 16,
     "metadata": {},
     "output_type": "execute_result"
    }
   ],
   "source": [
    "#if you want to pull the HTML table directly from the page\n",
    "\n",
    "html = browser.html\n",
    "facts_soup = BeautifulSoup(html, 'html.parser')\n",
    "\n",
    "facts_soup.find(id = 'tablepress-p-mars')\n",
    "\n",
    "\n"
   ]
  },
  {
   "cell_type": "markdown",
   "metadata": {},
   "source": [
    "# Mars Hemispheres"
   ]
  },
  {
   "cell_type": "code",
   "execution_count": 17,
   "metadata": {},
   "outputs": [],
   "source": [
    "# URL of NASA MARS NEWS to be scraped\n",
    "url = 'https://astrogeology.usgs.gov/search/results?q=hemisphere+enhanced&k1=target&v1=Mars'\n",
    "browser.visit(url)"
   ]
  },
  {
   "cell_type": "code",
   "execution_count": 18,
   "metadata": {},
   "outputs": [
    {
     "data": {
      "text/plain": [
       "'<!DOCTYPE html>\\r\\n<html lang=\"en\">\\r\\n\\t<head>\\r\\n\\t\\t<link rel=\"stylesheet\" type=\"text/css\" href=\"//ajax.googleapis.com/ajax/libs/jqueryui/1.11.3/themes/smoothness/jquery-ui.css\" />\\n<title>Astropedia Search Results | USGS Astrogeology Science Center</title>\\r\\n\\t\\t<meta name=\"description\" content=\"USGS Astrogeology Science Center Astropedia search results.\"/>\\r\\n\\t\\t<meta name=\"keywords\" content=\"USGS,Astrogeology Science Center,Cartography,Geology,Space,Geological Survey,Mapping\"/>\\r\\n\\t\\t<meta http-equiv=\"X-UA-Compatible\" content=\"IE=edge\"/>\\r\\n\\t\\t<meta http-equiv=\"Content-Type\" content=\"text/html; charset=utf-8\"/>\\r\\n\\t\\t<meta name=\"viewport\" content=\"width=device-width, initial-scale=1, maximum-scale=1\"/>\\r\\n\\t\\t<meta name=\"google-site-verification\" content=\"x61hXXVj7wtfBSNOPnTftajMsZ5yB2W-qRoyr7GtOKM\"/>\\r\\n\\t\\t<!--<link rel=\"stylesheet\" href=\"http://fonts.googleapis.com/css?family=Open+Sans:400italic,400,bold\"/>-->\\r\\n\\t\\t<link rel=\"stylesheet\" media=\"screen\" href=\"/css/main.css\"/>\\r\\n\\t\\t<link rel=\"stylesheet\" media=\"print\" href=\"/css/print.css\"/>\\r\\n\\t\\t<!--[if lt IE 9]>\\r\\n\\t\\t\\t<script src=\"http://html5shiv.googlecode.com/svn/trunk/html5.js\"></script>\\r\\n\\t\\t\\t<script src=\"/js/respond.min.js\"></script>\\r\\n\\t\\t\\t<link rel=\"stylesheet\" type=\"text/css\" href=\"/css/ie.css\"/>\\r\\n                        <script>\\r\\n                          document.createElement(\\'header\\');\\r\\n                          document.createElement(\\'nav\\');\\r\\n                          document.createElement(\\'section\\');\\r\\n                          document.createElement(\\'article\\');\\r\\n                          document.createElement(\\'aside\\');\\r\\n                          document.createElement(\\'footer\\');\\r\\n                          document.createElement(\\'hgroup\\');\\r\\n                        </script>\\r\\n                  <![endif]-->\\r\\n\\t\\t<link rel=\"icon\" type=\"image/x-ico\" href=\"/favicon.ico\"/>\\r\\n\\t</head>\\r\\n\\t<body id=\"results\">\\r\\n\\t\\t<header>\\r\\n<!--\\r\\n\\t\\t\\t<h1>Astrogeology Science Center</h1>\\r\\n-->\\r\\n\\t\\t\\t<a href=\"https://www.usgs.gov/centers/astrogeo-sc\" style=\"float:right;margin-top:10px;\" target=\"_blank\" >\\r\\n\\t\\t\\t\\t<img class=\"logo\" height=\"60\" src=\"/images/usgs_logo_main_2x.png\" alt=\"USGS: Science for a Changing World\"/>\\r\\n\\t\\t\\t</a>\\r\\n\\t\\t\\t<a href=\"https://nasa.gov\" style=\"float:right;margin-top:5px;margin-right:20px;\" target=\"_blank\">\\r\\n\\t\\t\\t\\t<img class=\"logo\" height=\"65\" src=\"/images/logos/nasa-logo-web-med.png\" alt=\"NASA\"/>\\r\\n\\t\\t\\t</a>\\r\\n\\t\\t\\t<a href=\"https://www.usgs.gov/centers/astrogeology-science-center/science/pds-cartography-and-imaging-sciences-node-usgs\" style=\"float:right;margin-top:5px;margin-right: 10px;\" target=\"_blank\">\\r\\n\\t\\t\\t\\t<img class=\"logo\" height=\"65\" src=\"/images/pds_logo-invisible-web.png\" alt=\"PDS Cartography and Imaging Science Node\"/>\\r\\n\\t\\t\\t</a>\\r\\n\\t\\t</header>\\r\\n\\t\\t<div class=\"wrapper\">\\r\\n<!--\\r\\n\\t\\t\\t<nav>\\r\\n\\t\\t\\t\\t<a id=\"nav-toggle\" href=\"#\" title=\"Navigation Menu\">Menu</a>\\r\\n<ul class=\"dropdown dropdown-horizontal\" id=\"yw0\">\\n<li><a href=\"/\">Home</a></li>\\n<li><a href=\"/about\">About</a>\\n<ul>\\n<li><a href=\"/about/careers\">Careers</a></li>\\n<li><a href=\"/contact\">Contact</a></li>\\n<li><a href=\"/about/events\">Events</a></li>\\n<li><a href=\"/site/glossary\">Glossary</a></li>\\n<li><a href=\"/about/mission\">Mission</a></li>\\n<li><a href=\"/news\">News</a></li>\\n<li><a href=\"/people\">People</a></li>\\n<li><a href=\"/about/using-our-images\">Using Our Images</a></li>\\n<li><a href=\"/about/visitors\">Visitors</a></li>\\n</ul>\\n</li>\\n<li><a href=\"/facilities\">Labs / Facilities</a>\\n<ul>\\n<li><a href=\"/facilities/flynn-creek-crater-sample-collection\">Flynn Creek Crater Sample Collection</a></li>\\n<li><a href=\"http://www.moon-cal.org\">Lunar Calibration Project</a></li>\\n<li><a href=\"/facilities/meteor-crater-sample-collection\">Meteor Crater Sample Collection</a></li>\\n<li><a href=\"/facilities/mrctr\">MRCTR GIS Lab</a></li>\\n<li><a href=\"/facilities/cartography-and-imaging-sciences-node-of-nasa-planetary-data-system\">PDS Cartography and Imaging Sciences Node</a></li>\\n<li><a href=\"/pds/annex\">PDS IMG Annex</a></li>\\n<li><a href=\"/facilities/photogrammetry-guest-facility\">Photogrammetry Guest Facility</a></li>\\n<li><a href=\"/rpif\">Regional Planetary Information Facility (RPIF)</a></li>\\n</ul>\\n</li>\\n<li><a href=\"/maps\">Maps / Products</a>\\n<ul>\\n<li><a href=\"/search\">Product Search</a></li>\\n<li><a href=\"http://planetarynames.wr.usgs.gov\">Gazetteer of Planetary Nomenclature</a></li>\\n<li><a href=\"http://planetarymapping.wr.usgs.gov\">Geologic Mapping Program</a></li>\\n<li><a href=\"http://pilot.wr.usgs.gov\">Planetary Image Locator Tool (PILOT)</a></li>\\n<li><a href=\"/search/planetary-index\">Planetary Map Index</a></li>\\n</ul>\\n</li>\\n<li><a href=\"/geology\">Missions / Research</a>\\n<ul>\\n<li><a href=\"/geology/mars-dunes\">Mars Dunes</a></li>\\n<li><a href=\"/geology/mars-ice\">Mars Ice</a></li>\\n<li><a href=\"/missions\">Mission Support</a></li>\\n<li><a href=\"/solar-system\">Solar System</a></li>\\n<li><a href=\"/groups\">Working Groups</a></li>\\n</ul>\\n</li>\\n<li><a href=\"/tools\">Tools</a>\\n<ul>\\n<li><a href=\"http://planetarynames.wr.usgs.gov\">Gazetteer of Planetary Nomenclature</a></li>\\n<li><a href=\"http://isis.astrogeology.usgs.gov\">Integrated Software for Imagers and Spectrometers (ISIS)</a></li>\\n<li><a href=\"http://astrogeology.usgs.gov/tools/map\">Map a Planet 2</a></li>\\n<li><a href=\"http://pilot.wr.usgs.gov\">Planetary Image Locator Tool (PILOT)</a></li>\\n<li><a href=\"http://astrocloud.wr.usgs.gov/\">Projection on the Web (POW)</a></li>\\n</ul>\\n</li>\\n</ul>\\t\\t\\t\\t<form id=\"search\" class=\"search\" action=\"/search/results\" method=\"get\">\\r\\n\\t\\t\\t\\t\\t<input type=\"submit\" value=\"\" title=\"Search Astropedia\"/>\\r\\n\\t\\t\\t\\t\\t<input type=\"text\" placeholder=\"Search\" name=\"q\"/>\\r\\n\\t\\t\\t\\t</form>\\r\\n\\t\\t\\t</nav>\\r\\n-->\\r\\n\\t\\t\\t<div class=\"container\">\\r\\n\\t\\t\\t\\t<div class=\"widget block bar\">\\n  <a style=\"float:right;text-decoration:none;\" href=\"/search\">\\n\\t\\t<img style=\"width:200px;border:none;float:right;\" src=\"/images/astropedia/astropedia-logo-main.png\" alt=\"Astropedia\"/>\\n\\t\\t<div style=\"clear:both;font-size:.8em;float:right;color:#888;\">Lunar and Planetary Cartographic Catalog</div>\\n  </a>\\n   <div style=\"float:left;height:60px;\">\\n   </div>\\n</div>\\n<form id=\"search-bar\" class=\"bar widget block\" action=\"/search/results\">\\n  <input type=\"hidden\" value=\"hemisphere-enhanced\" name=\"q\"/>\\n  <input type=\"hidden\" value=\"Mars\" name=\"target\"/><input type=\"hidden\" name=\"__ncforminfo\" value=\"_zQl7x9svgKflbhwSoopU_KC62UMOIBkDFNqY_GaJyKEBCpso4Ll8bEIVXPZdLayANq8Vb8IvmRltBxYbnacOG9inuOgC9h__XknCWrzDv8EHu9JOa22mw==\"/></form><div class=\"full-content\">\\n\\t<section id=\"results-accordian\" class=\"block\">\\n\\t<div id=\"product-section\" data-section=\"product\" class=\"result-list \">\\n\\t\\t<div class=\"accordian\">\\n\\t\\t\\t<h2>Products</h2>\\n\\t\\t\\t<span class=\"count\">4 Results</span>\\n\\t\\t\\t<span class=\"collapse\">Collapse</span>\\n\\t\\t</div>\\n\\t\\t<div class=\"collapsible results\">\\n<div class=\"item\"><a href=\"/search/map/Mars/Viking/cerberus_enhanced\" class=\"itemLink product-item\"><img class=\"thumb\" src=\"/cache/images/39d3266553462198bd2fbc4d18fbed17_cerberus_enhanced.tif_thumb.png\" alt=\"Cerberus Hemisphere Enhanced thumbnail\"><div class=\"description\"><h3>Cerberus Hemisphere Enhanced</h3></a><span class=\"subtitle\" style=\"float:left\">image/tiff 21 MB</span><span class=\"pubDate\" style=\"float:right\"></span><br/><p>Mosaic of the Cerberus hemisphere of Mars projected into point perspective, a view similar to that which one would see from a spacecraft. This mosaic is composed of 104 Viking Orbiter images acquired&hellip;</p></div> <!-- end description --></div><div class=\"item\"><a href=\"/search/map/Mars/Viking/schiaparelli_enhanced\" class=\"itemLink product-item\"><img class=\"thumb\" src=\"/cache/images/08eac6e22c07fb1fe72223a79252de20_schiaparelli_enhanced.tif_thumb.png\" alt=\"Schiaparelli Hemisphere Enhanced thumbnail\"><div class=\"description\"><h3>Schiaparelli Hemisphere Enhanced</h3></a><span class=\"subtitle\" style=\"float:left\">image/tiff 35 MB</span><span class=\"pubDate\" style=\"float:right\"></span><br/><p>Mosaic of the Schiaparelli hemisphere of Mars projected into point perspective, a view similar to that which one would see from a spacecraft. The images were acquired in 1980 during early northern&hellip;</p></div> <!-- end description --></div><div class=\"item\"><a href=\"/search/map/Mars/Viking/syrtis_major_enhanced\" class=\"itemLink product-item\"><img class=\"thumb\" src=\"/cache/images/55a0a1e2796313fdeafb17c35925e8ac_syrtis_major_enhanced.tif_thumb.png\" alt=\"Syrtis Major Hemisphere Enhanced thumbnail\"><div class=\"description\"><h3>Syrtis Major Hemisphere Enhanced</h3></a><span class=\"subtitle\" style=\"float:left\">image/tiff 25 MB</span><span class=\"pubDate\" style=\"float:right\"></span><br/><p>Mosaic of the Syrtis Major hemisphere of Mars projected into point perspective, a view similar to that which one would see from a spacecraft. This mosaic is composed of about 100 red and violet&hellip;</p></div> <!-- end description --></div><div class=\"item\"><a href=\"/search/map/Mars/Viking/valles_marineris_enhanced\" class=\"itemLink product-item\"><img class=\"thumb\" src=\"/cache/images/4e59980c1c57f89c680c0e1ccabbeff1_valles_marineris_enhanced.tif_thumb.png\" alt=\"Valles Marineris Hemisphere Enhanced thumbnail\"><div class=\"description\"><h3>Valles Marineris Hemisphere Enhanced</h3></a><span class=\"subtitle\" style=\"float:left\">image/tiff 27 MB</span><span class=\"pubDate\" style=\"float:right\"></span><br/><p>Mosaic of the Valles Marineris hemisphere of Mars projected into point perspective, a view similar to that which one would see from a spacecraft. The distance is 2500 kilometers from the surface of&hellip;</p></div> <!-- end description --></div><script>addBases=[];;if(typeof resetLayerSwitcher===\"function\"){resetLayerSwitcher(false)};var productTotal = 4;</script>\\n</div> <!-- end this-section -->\\n</div>\\n\\n\\n\\n\\t</section>\\n</div>\\n\\n\\t\\t\\t</div>\\r\\n\\t\\t\\t\\t\\t\\t\\t<div class=\"icons projects black scroll-wrapper\">\\r\\n\\t\\t\\t\\t\\t<div class=\"scroll\">\\r\\n\\t\\t\\t\\t\\t\\t<a title=\"Integrated Software for Imagers and Spectrometers\" href=\"http://isis.astrogeology.usgs.gov\" class=\"icon\">\\r\\n\\t\\t\\t\\t\\t\\t\\t<img alt=\"ISIS Logo\" height=\"112\" width=\"112\" src=\"/images/logos/isis_2x.jpg\"/>\\r\\n\\t\\t\\t\\t\\t\\t\\t<span class=\"label\">ISIS</span>\\r\\n\\t\\t\\t\\t\\t\\t</a>\\r\\n\\t\\t\\t\\t\\t\\t<a title=\"Gazetteer of Planetary Nomenclature\" href=\"http://planetarynames.wr.usgs.gov\" class=\"icon\">\\r\\n\\t\\t\\t\\t\\t\\t\\t<img alt=\"Nomenclature Logo\" height=\"112\" width=\"112\" src=\"/images/logos/nomenclature_2x.jpg\"/>\\r\\n\\t\\t\\t\\t\\t\\t\\t<span class=\"label\">Planetary Nomenclature</span>\\r\\n\\t\\t\\t\\t\\t\\t</a>\\r\\n\\t\\t\\t\\t\\t\\t<a title=\"Map a Planet 2\" href=\"https://astrogeology.usgs.gov/tools/map-a-planet-2\" class=\"icon\">\\r\\n\\t\\t\\t\\t\\t\\t\\t<img alt=\"Map-a-Planet Logo\" height=\"112\" width=\"112\" src=\"/images/logos/map_a_planet_2x.jpg\"/>\\r\\n\\t\\t\\t\\t\\t\\t\\t<span class=\"label\">Map a Planet 2</span>\\r\\n\\t\\t\\t\\t\\t\\t</a>\\r\\n\\t\\t\\t\\t\\t\\t<a title=\"PDS Cartography and Imaging Science Node\" href=\"https://www.usgs.gov/centers/astrogeo-sc/science/cartography-and-imaging-sciences-node-nasa-planetary-data-system\" class=\"icon\">\\r\\n\\t\\t\\t\\t\\t\\t\\t<img alt=\"PDS Logo\" height=\"112\" src=\"/images/pds_logo-black-web.png\"/>\\r\\n\\t\\t\\t\\t\\t\\t\\t<span class=\"label\">PDS Cartography and Imaging Science Node</span>\\r\\n\\t\\t\\t\\t\\t\\t</a>\\r\\n<!--\\r\\n\\t\\t\\t\\t\\t\\t<a title=\"Astropedia Search\" href=\"/search\" class=\"icon\">\\r\\n\\t\\t\\t\\t\\t\\t\\t<img alt=\"Astropedia Logo\" height=\"112\" width=\"112\" src=\"/images/logos/astropedia_2x.jpg\"/>\\r\\n\\t\\t\\t\\t\\t\\t\\t<span class=\"label\">Astropedia</span>\\r\\n\\t\\t\\t\\t\\t\\t</a>\\r\\n-->\\r\\n\\t\\t\\t\\t\\t\\t<a title=\"Regional Planetary Image Facility\" href=\"https://www.usgs.gov/centers/astrogeo-sc/science/regional-planetary-image-facility-rpif\" class=\"icon\">\\r\\n\\t\\t\\t\\t\\t\\t\\t<img alt=\"RPIF Logo\" height=\"112\" width=\"112\" src=\"/images/logos/rpif_2x.jpg\"/>\\r\\n\\t\\t\\t\\t\\t\\t\\t<span class=\"label\">RPIF</span>\\r\\n\\t\\t\\t\\t\\t\\t</a>\\r\\n\\t\\t\\t\\t\\t\\t<a title=\"Photogrammetry Guest Facility\" href=\"\" class=\"icon\">\\r\\n\\t\\t\\t\\t\\t\\t\\t<img alt=\"Photogrammetry Guest Faciltiy Logo\" height=\"112\" width=\"112\" src=\"/images/logos/photogrammetry_2x.jpg\"/>\\r\\n\\t\\t\\t\\t\\t\\t\\t<span class=\"label\">Photogrammetry Guest Facility</span>\\r\\n\\t\\t\\t\\t\\t\\t</a>\\r\\n\\t\\t\\t\\t\\t\\t<a title=\"Planetary Image Locator Tool\" href=\"http://pilot.wr.usgs.gov\" class=\"icon\">\\r\\n\\t\\t\\t\\t\\t\\t\\t<img alt=\"Pilot Logo\" height=\"112\" width=\"112\" src=\"/images/logos/pilot_2x.jpg\"/>\\r\\n\\t\\t\\t\\t\\t\\t\\t<span class=\"label\">PILOT</span>\\r\\n\\t\\t\\t\\t\\t\\t</a>\\r\\n\\t\\t\\t\\t\\t\\t<a title=\"Mapping, Remote-sensing, Cartography, Technology and Research GIS Lab\" href=\"https://www.usgs.gov/centers/astrogeo-sc/science/mrctr-gis-lab\" class=\"icon\">\\r\\n\\t\\t\\t\\t\\t\\t\\t<img alt=\"MRCTR GIS Lab Logo\" height=\"112\" width=\"112\" src=\"/images/logos/mrctr_man_2x.png\"/>\\r\\n\\t\\t\\t\\t\\t\\t\\t<span class=\"label\">MRCTR GIS Lab</span>\\r\\n\\t\\t\\t\\t\\t\\t</a>\\r\\n\\t\\t\\t\\t\\t</div>\\r\\n\\t\\t\\t\\t</div>\\r\\n\\t\\t\\t\\t\\t\\t<footer>\\r\\n\\t\\t\\t\\t<div class=\"left\">\\r\\n\\t\\t\\t\\t\\t<a href=\"./search\">Search</a> |\\r\\n\\t\\t\\t\\t\\t<a href=\"http://astrogeology.usgs.gov/maps/about\">About</a> |\\r\\n\\t\\t\\t\\t\\t<a href=\"http://astrogeology.usgs.gov/maps/contact\">Contact</a>\\r\\n\\t\\t\\t\\t</div>\\r\\n\\t\\t\\t\\t<div class=\"right\">\\r\\n                                        <a href=\"https://www.usgs.gov/centers/astrogeo-sc\">USGS Astrogeology Science Center</a>\\r\\n\\t\\t\\t\\t</div>\\r\\n\\t\\t\\t</footer>\\r\\n\\t\\t</div>\\r\\n<!--\\r\\n\\t\\t<div class=\"credit\">\\r\\n\\t\\t\\t<small>Background Credits: NASA/USGS</small>\\r\\n\\t\\t</div>\\r\\n-->\\r\\n\\t\\t<div class=\"page-background\" style=\"\\r\\n\\t\\t\\tbackground:url(\\'/images/backgrounds/mars.jpg\\');\\r\\n\\t\\t\\tfilter:progid:DXImageTransform.Microsoft.AlphaImageLoader(\\r\\n\\t\\t\\t\\tsrc=\\'/images/backgrounds/mars.jpg\\', sizingMethod=\\'scale\\');\\r\\n\\t\\t\"></div>\\r\\n\\t\\t<script type=\"text/javascript\">\\r\\nvar baseUrl = \"\";\\r\\n\\r\\n/*\\r\\nvar _gaq = _gaq || [];_gaq.push([\\'_setAccount\\', \\'UA-27613186-1\\']);_gaq.push([\\'_trackPageview\\']);(function() { var ga = document.createElement(\\'script\\'); ga.type = \\'text/javascript\\'; ga.async = true;ga.src = (\\'https:\\' == document.location.protocol ? \\'https://ssl\\' : \\'http://www\\') + \\'.google-analytics.com/ga.js\\'; var s = document.getElementsByTagName(\\'script\\')[0]; s.parentNode.insertBefore(ga, s);})();\\r\\n*/\\r\\n\\t\\t</script>\\r\\n\\t<script type=\"text/javascript\" src=\"https://ajax.googleapis.com/ajax/libs/jquery/1.11.1/jquery.min.js\"></script>\\n<script type=\"text/javascript\" src=\"//ajax.googleapis.com/ajax/libs/jqueryui/1.11.3/jquery-ui.min.js\"></script>\\n<script type=\"text/javascript\" src=\"/js/general.js\"></script>\\n</body>\\r\\n</html>\\r\\n'"
      ]
     },
     "execution_count": 18,
     "metadata": {},
     "output_type": "execute_result"
    }
   ],
   "source": [
    "# Retrieve page with the requests module\n",
    "response = requests.get(url)\n",
    "response.text"
   ]
  },
  {
   "cell_type": "code",
   "execution_count": 19,
   "metadata": {},
   "outputs": [],
   "source": [
    "# Create BeautifulSoup object; parse with 'html.parser'\n",
    "soup = BeautifulSoup(response.text, 'html.parser')"
   ]
  },
  {
   "cell_type": "code",
   "execution_count": 20,
   "metadata": {},
   "outputs": [
    {
     "name": "stdout",
     "output_type": "stream",
     "text": [
      "<!DOCTYPE html>\n",
      "<html lang=\"en\">\n",
      " <head>\n",
      "  <link href=\"//ajax.googleapis.com/ajax/libs/jqueryui/1.11.3/themes/smoothness/jquery-ui.css\" rel=\"stylesheet\" type=\"text/css\"/>\n",
      "  <title>\n",
      "   Astropedia Search Results | USGS Astrogeology Science Center\n",
      "  </title>\n",
      "  <meta content=\"USGS Astrogeology Science Center Astropedia search results.\" name=\"description\"/>\n",
      "  <meta content=\"USGS,Astrogeology Science Center,Cartography,Geology,Space,Geological Survey,Mapping\" name=\"keywords\"/>\n",
      "  <meta content=\"IE=edge\" http-equiv=\"X-UA-Compatible\"/>\n",
      "  <meta content=\"text/html; charset=utf-8\" http-equiv=\"Content-Type\"/>\n",
      "  <meta content=\"width=device-width, initial-scale=1, maximum-scale=1\" name=\"viewport\"/>\n",
      "  <meta content=\"x61hXXVj7wtfBSNOPnTftajMsZ5yB2W-qRoyr7GtOKM\" name=\"google-site-verification\"/>\n",
      "  <!--<link rel=\"stylesheet\" href=\"http://fonts.googleapis.com/css?family=Open+Sans:400italic,400,bold\"/>-->\n",
      "  <link href=\"/css/main.css\" media=\"screen\" rel=\"stylesheet\"/>\n",
      "  <link href=\"/css/print.css\" media=\"print\" rel=\"stylesheet\"/>\n",
      "  <!--[if lt IE 9]>\r\n",
      "\t\t\t<script src=\"http://html5shiv.googlecode.com/svn/trunk/html5.js\"></script>\r\n",
      "\t\t\t<script src=\"/js/respond.min.js\"></script>\r\n",
      "\t\t\t<link rel=\"stylesheet\" type=\"text/css\" href=\"/css/ie.css\"/>\r\n",
      "                        <script>\r\n",
      "                          document.createElement('header');\r\n",
      "                          document.createElement('nav');\r\n",
      "                          document.createElement('section');\r\n",
      "                          document.createElement('article');\r\n",
      "                          document.createElement('aside');\r\n",
      "                          document.createElement('footer');\r\n",
      "                          document.createElement('hgroup');\r\n",
      "                        </script>\r\n",
      "                  <![endif]-->\n",
      "  <link href=\"/favicon.ico\" rel=\"icon\" type=\"image/x-ico\"/>\n",
      " </head>\n",
      " <body id=\"results\">\n",
      "  <header>\n",
      "   <!--\r\n",
      "\t\t\t<h1>Astrogeology Science Center</h1>\r\n",
      "-->\n",
      "   <a href=\"https://www.usgs.gov/centers/astrogeo-sc\" style=\"float:right;margin-top:10px;\" target=\"_blank\">\n",
      "    <img alt=\"USGS: Science for a Changing World\" class=\"logo\" height=\"60\" src=\"/images/usgs_logo_main_2x.png\"/>\n",
      "   </a>\n",
      "   <a href=\"https://nasa.gov\" style=\"float:right;margin-top:5px;margin-right:20px;\" target=\"_blank\">\n",
      "    <img alt=\"NASA\" class=\"logo\" height=\"65\" src=\"/images/logos/nasa-logo-web-med.png\"/>\n",
      "   </a>\n",
      "   <a href=\"https://www.usgs.gov/centers/astrogeology-science-center/science/pds-cartography-and-imaging-sciences-node-usgs\" style=\"float:right;margin-top:5px;margin-right: 10px;\" target=\"_blank\">\n",
      "    <img alt=\"PDS Cartography and Imaging Science Node\" class=\"logo\" height=\"65\" src=\"/images/pds_logo-invisible-web.png\"/>\n",
      "   </a>\n",
      "  </header>\n",
      "  <div class=\"wrapper\">\n",
      "   <!--\r\n",
      "\t\t\t<nav>\r\n",
      "\t\t\t\t<a id=\"nav-toggle\" href=\"#\" title=\"Navigation Menu\">Menu</a>\r\n",
      "<ul class=\"dropdown dropdown-horizontal\" id=\"yw0\">\n",
      "<li><a href=\"/\">Home</a></li>\n",
      "<li><a href=\"/about\">About</a>\n",
      "<ul>\n",
      "<li><a href=\"/about/careers\">Careers</a></li>\n",
      "<li><a href=\"/contact\">Contact</a></li>\n",
      "<li><a href=\"/about/events\">Events</a></li>\n",
      "<li><a href=\"/site/glossary\">Glossary</a></li>\n",
      "<li><a href=\"/about/mission\">Mission</a></li>\n",
      "<li><a href=\"/news\">News</a></li>\n",
      "<li><a href=\"/people\">People</a></li>\n",
      "<li><a href=\"/about/using-our-images\">Using Our Images</a></li>\n",
      "<li><a href=\"/about/visitors\">Visitors</a></li>\n",
      "</ul>\n",
      "</li>\n",
      "<li><a href=\"/facilities\">Labs / Facilities</a>\n",
      "<ul>\n",
      "<li><a href=\"/facilities/flynn-creek-crater-sample-collection\">Flynn Creek Crater Sample Collection</a></li>\n",
      "<li><a href=\"http://www.moon-cal.org\">Lunar Calibration Project</a></li>\n",
      "<li><a href=\"/facilities/meteor-crater-sample-collection\">Meteor Crater Sample Collection</a></li>\n",
      "<li><a href=\"/facilities/mrctr\">MRCTR GIS Lab</a></li>\n",
      "<li><a href=\"/facilities/cartography-and-imaging-sciences-node-of-nasa-planetary-data-system\">PDS Cartography and Imaging Sciences Node</a></li>\n",
      "<li><a href=\"/pds/annex\">PDS IMG Annex</a></li>\n",
      "<li><a href=\"/facilities/photogrammetry-guest-facility\">Photogrammetry Guest Facility</a></li>\n",
      "<li><a href=\"/rpif\">Regional Planetary Information Facility (RPIF)</a></li>\n",
      "</ul>\n",
      "</li>\n",
      "<li><a href=\"/maps\">Maps / Products</a>\n",
      "<ul>\n",
      "<li><a href=\"/search\">Product Search</a></li>\n",
      "<li><a href=\"http://planetarynames.wr.usgs.gov\">Gazetteer of Planetary Nomenclature</a></li>\n",
      "<li><a href=\"http://planetarymapping.wr.usgs.gov\">Geologic Mapping Program</a></li>\n",
      "<li><a href=\"http://pilot.wr.usgs.gov\">Planetary Image Locator Tool (PILOT)</a></li>\n",
      "<li><a href=\"/search/planetary-index\">Planetary Map Index</a></li>\n",
      "</ul>\n",
      "</li>\n",
      "<li><a href=\"/geology\">Missions / Research</a>\n",
      "<ul>\n",
      "<li><a href=\"/geology/mars-dunes\">Mars Dunes</a></li>\n",
      "<li><a href=\"/geology/mars-ice\">Mars Ice</a></li>\n",
      "<li><a href=\"/missions\">Mission Support</a></li>\n",
      "<li><a href=\"/solar-system\">Solar System</a></li>\n",
      "<li><a href=\"/groups\">Working Groups</a></li>\n",
      "</ul>\n",
      "</li>\n",
      "<li><a href=\"/tools\">Tools</a>\n",
      "<ul>\n",
      "<li><a href=\"http://planetarynames.wr.usgs.gov\">Gazetteer of Planetary Nomenclature</a></li>\n",
      "<li><a href=\"http://isis.astrogeology.usgs.gov\">Integrated Software for Imagers and Spectrometers (ISIS)</a></li>\n",
      "<li><a href=\"http://astrogeology.usgs.gov/tools/map\">Map a Planet 2</a></li>\n",
      "<li><a href=\"http://pilot.wr.usgs.gov\">Planetary Image Locator Tool (PILOT)</a></li>\n",
      "<li><a href=\"http://astrocloud.wr.usgs.gov/\">Projection on the Web (POW)</a></li>\n",
      "</ul>\n",
      "</li>\n",
      "</ul>\t\t\t\t<form id=\"search\" class=\"search\" action=\"/search/results\" method=\"get\">\r\n",
      "\t\t\t\t\t<input type=\"submit\" value=\"\" title=\"Search Astropedia\"/>\r\n",
      "\t\t\t\t\t<input type=\"text\" placeholder=\"Search\" name=\"q\"/>\r\n",
      "\t\t\t\t</form>\r\n",
      "\t\t\t</nav>\r\n",
      "-->\n",
      "   <div class=\"container\">\n",
      "    <div class=\"widget block bar\">\n",
      "     <a href=\"/search\" style=\"float:right;text-decoration:none;\">\n",
      "      <img alt=\"Astropedia\" src=\"/images/astropedia/astropedia-logo-main.png\" style=\"width:200px;border:none;float:right;\"/>\n",
      "      <div style=\"clear:both;font-size:.8em;float:right;color:#888;\">\n",
      "       Lunar and Planetary Cartographic Catalog\n",
      "      </div>\n",
      "     </a>\n",
      "     <div style=\"float:left;height:60px;\">\n",
      "     </div>\n",
      "    </div>\n",
      "    <form action=\"/search/results\" class=\"bar widget block\" id=\"search-bar\">\n",
      "     <input name=\"q\" type=\"hidden\" value=\"hemisphere-enhanced\"/>\n",
      "     <input name=\"target\" type=\"hidden\" value=\"Mars\"/>\n",
      "     <input name=\"__ncforminfo\" type=\"hidden\" value=\"_zQl7x9svgKflbhwSoopU_KC62UMOIBkDFNqY_GaJyKEBCpso4Ll8bEIVXPZdLayANq8Vb8IvmRltBxYbnacOG9inuOgC9h__XknCWrzDv8EHu9JOa22mw==\"/>\n",
      "    </form>\n",
      "    <div class=\"full-content\">\n",
      "     <section class=\"block\" id=\"results-accordian\">\n",
      "      <div class=\"result-list\" data-section=\"product\" id=\"product-section\">\n",
      "       <div class=\"accordian\">\n",
      "        <h2>\n",
      "         Products\n",
      "        </h2>\n",
      "        <span class=\"count\">\n",
      "         4 Results\n",
      "        </span>\n",
      "        <span class=\"collapse\">\n",
      "         Collapse\n",
      "        </span>\n",
      "       </div>\n",
      "       <div class=\"collapsible results\">\n",
      "        <div class=\"item\">\n",
      "         <a class=\"itemLink product-item\" href=\"/search/map/Mars/Viking/cerberus_enhanced\">\n",
      "          <img alt=\"Cerberus Hemisphere Enhanced thumbnail\" class=\"thumb\" src=\"/cache/images/39d3266553462198bd2fbc4d18fbed17_cerberus_enhanced.tif_thumb.png\"/>\n",
      "          <div class=\"description\">\n",
      "           <h3>\n",
      "            Cerberus Hemisphere Enhanced\n",
      "           </h3>\n",
      "          </div>\n",
      "         </a>\n",
      "         <span class=\"subtitle\" style=\"float:left\">\n",
      "          image/tiff 21 MB\n",
      "         </span>\n",
      "         <span class=\"pubDate\" style=\"float:right\">\n",
      "         </span>\n",
      "         <br/>\n",
      "         <p>\n",
      "          Mosaic of the Cerberus hemisphere of Mars projected into point perspective, a view similar to that which one would see from a spacecraft. This mosaic is composed of 104 Viking Orbiter images acquired…\n",
      "         </p>\n",
      "        </div>\n",
      "        <!-- end description -->\n",
      "       </div>\n",
      "       <div class=\"item\">\n",
      "        <a class=\"itemLink product-item\" href=\"/search/map/Mars/Viking/schiaparelli_enhanced\">\n",
      "         <img alt=\"Schiaparelli Hemisphere Enhanced thumbnail\" class=\"thumb\" src=\"/cache/images/08eac6e22c07fb1fe72223a79252de20_schiaparelli_enhanced.tif_thumb.png\"/>\n",
      "         <div class=\"description\">\n",
      "          <h3>\n",
      "           Schiaparelli Hemisphere Enhanced\n",
      "          </h3>\n",
      "         </div>\n",
      "        </a>\n",
      "        <span class=\"subtitle\" style=\"float:left\">\n",
      "         image/tiff 35 MB\n",
      "        </span>\n",
      "        <span class=\"pubDate\" style=\"float:right\">\n",
      "        </span>\n",
      "        <br/>\n",
      "        <p>\n",
      "         Mosaic of the Schiaparelli hemisphere of Mars projected into point perspective, a view similar to that which one would see from a spacecraft. The images were acquired in 1980 during early northern…\n",
      "        </p>\n",
      "       </div>\n",
      "       <!-- end description -->\n",
      "      </div>\n",
      "      <div class=\"item\">\n",
      "       <a class=\"itemLink product-item\" href=\"/search/map/Mars/Viking/syrtis_major_enhanced\">\n",
      "        <img alt=\"Syrtis Major Hemisphere Enhanced thumbnail\" class=\"thumb\" src=\"/cache/images/55a0a1e2796313fdeafb17c35925e8ac_syrtis_major_enhanced.tif_thumb.png\"/>\n",
      "        <div class=\"description\">\n",
      "         <h3>\n",
      "          Syrtis Major Hemisphere Enhanced\n",
      "         </h3>\n",
      "        </div>\n",
      "       </a>\n",
      "       <span class=\"subtitle\" style=\"float:left\">\n",
      "        image/tiff 25 MB\n",
      "       </span>\n",
      "       <span class=\"pubDate\" style=\"float:right\">\n",
      "       </span>\n",
      "       <br/>\n",
      "       <p>\n",
      "        Mosaic of the Syrtis Major hemisphere of Mars projected into point perspective, a view similar to that which one would see from a spacecraft. This mosaic is composed of about 100 red and violet…\n",
      "       </p>\n",
      "      </div>\n",
      "      <!-- end description -->\n",
      "     </section>\n",
      "    </div>\n",
      "    <div class=\"item\">\n",
      "     <a class=\"itemLink product-item\" href=\"/search/map/Mars/Viking/valles_marineris_enhanced\">\n",
      "      <img alt=\"Valles Marineris Hemisphere Enhanced thumbnail\" class=\"thumb\" src=\"/cache/images/4e59980c1c57f89c680c0e1ccabbeff1_valles_marineris_enhanced.tif_thumb.png\"/>\n",
      "      <div class=\"description\">\n",
      "       <h3>\n",
      "        Valles Marineris Hemisphere Enhanced\n",
      "       </h3>\n",
      "      </div>\n",
      "     </a>\n",
      "     <span class=\"subtitle\" style=\"float:left\">\n",
      "      image/tiff 27 MB\n",
      "     </span>\n",
      "     <span class=\"pubDate\" style=\"float:right\">\n",
      "     </span>\n",
      "     <br/>\n",
      "     <p>\n",
      "      Mosaic of the Valles Marineris hemisphere of Mars projected into point perspective, a view similar to that which one would see from a spacecraft. The distance is 2500 kilometers from the surface of…\n",
      "     </p>\n",
      "    </div>\n",
      "    <!-- end description -->\n",
      "   </div>\n",
      "   <script>\n",
      "    addBases=[];;if(typeof resetLayerSwitcher===\"function\"){resetLayerSwitcher(false)};var productTotal = 4;\n",
      "   </script>\n",
      "  </div>\n",
      "  <!-- end this-section -->\n",
      " </body>\n",
      "</html>\n",
      "<div class=\"icons projects black scroll-wrapper\">\n",
      " <div class=\"scroll\">\n",
      "  <a class=\"icon\" href=\"http://isis.astrogeology.usgs.gov\" title=\"Integrated Software for Imagers and Spectrometers\">\n",
      "   <img alt=\"ISIS Logo\" height=\"112\" src=\"/images/logos/isis_2x.jpg\" width=\"112\">\n",
      "    <span class=\"label\">\n",
      "     ISIS\n",
      "    </span>\n",
      "   </img>\n",
      "  </a>\n",
      "  <a class=\"icon\" href=\"http://planetarynames.wr.usgs.gov\" title=\"Gazetteer of Planetary Nomenclature\">\n",
      "   <img alt=\"Nomenclature Logo\" height=\"112\" src=\"/images/logos/nomenclature_2x.jpg\" width=\"112\">\n",
      "    <span class=\"label\">\n",
      "     Planetary Nomenclature\n",
      "    </span>\n",
      "   </img>\n",
      "  </a>\n",
      "  <a class=\"icon\" href=\"https://astrogeology.usgs.gov/tools/map-a-planet-2\" title=\"Map a Planet 2\">\n",
      "   <img alt=\"Map-a-Planet Logo\" height=\"112\" src=\"/images/logos/map_a_planet_2x.jpg\" width=\"112\">\n",
      "    <span class=\"label\">\n",
      "     Map a Planet 2\n",
      "    </span>\n",
      "   </img>\n",
      "  </a>\n",
      "  <a class=\"icon\" href=\"https://www.usgs.gov/centers/astrogeo-sc/science/cartography-and-imaging-sciences-node-nasa-planetary-data-system\" title=\"PDS Cartography and Imaging Science Node\">\n",
      "   <img alt=\"PDS Logo\" height=\"112\" src=\"/images/pds_logo-black-web.png\">\n",
      "    <span class=\"label\">\n",
      "     PDS Cartography and Imaging Science Node\n",
      "    </span>\n",
      "   </img>\n",
      "  </a>\n",
      "  <!--\r\n",
      "\t\t\t\t\t\t<a title=\"Astropedia Search\" href=\"/search\" class=\"icon\">\r\n",
      "\t\t\t\t\t\t\t<img alt=\"Astropedia Logo\" height=\"112\" width=\"112\" src=\"/images/logos/astropedia_2x.jpg\"/>\r\n",
      "\t\t\t\t\t\t\t<span class=\"label\">Astropedia</span>\r\n",
      "\t\t\t\t\t\t</a>\r\n",
      "-->\n",
      "  <a class=\"icon\" href=\"https://www.usgs.gov/centers/astrogeo-sc/science/regional-planetary-image-facility-rpif\" title=\"Regional Planetary Image Facility\">\n",
      "   <img alt=\"RPIF Logo\" height=\"112\" src=\"/images/logos/rpif_2x.jpg\" width=\"112\"/>\n",
      "   <span class=\"label\">\n",
      "    RPIF\n",
      "   </span>\n",
      "  </a>\n",
      "  <a class=\"icon\" href=\"\" title=\"Photogrammetry Guest Facility\">\n",
      "   <img alt=\"Photogrammetry Guest Faciltiy Logo\" height=\"112\" src=\"/images/logos/photogrammetry_2x.jpg\" width=\"112\"/>\n",
      "   <span class=\"label\">\n",
      "    Photogrammetry Guest Facility\n",
      "   </span>\n",
      "  </a>\n",
      "  <a class=\"icon\" href=\"http://pilot.wr.usgs.gov\" title=\"Planetary Image Locator Tool\">\n",
      "   <img alt=\"Pilot Logo\" height=\"112\" src=\"/images/logos/pilot_2x.jpg\" width=\"112\"/>\n",
      "   <span class=\"label\">\n",
      "    PILOT\n",
      "   </span>\n",
      "  </a>\n",
      "  <a class=\"icon\" href=\"https://www.usgs.gov/centers/astrogeo-sc/science/mrctr-gis-lab\" title=\"Mapping, Remote-sensing, Cartography, Technology and Research GIS Lab\">\n",
      "   <img alt=\"MRCTR GIS Lab Logo\" height=\"112\" src=\"/images/logos/mrctr_man_2x.png\" width=\"112\"/>\n",
      "   <span class=\"label\">\n",
      "    MRCTR GIS Lab\n",
      "   </span>\n",
      "  </a>\n",
      " </div>\n",
      "</div>\n",
      "<footer>\n",
      " <div class=\"left\">\n",
      "  <a href=\"./search\">\n",
      "   Search\n",
      "  </a>\n",
      "  |\n",
      "  <a href=\"http://astrogeology.usgs.gov/maps/about\">\n",
      "   About\n",
      "  </a>\n",
      "  |\n",
      "  <a href=\"http://astrogeology.usgs.gov/maps/contact\">\n",
      "   Contact\n",
      "  </a>\n",
      " </div>\n",
      " <div class=\"right\">\n",
      "  <a href=\"https://www.usgs.gov/centers/astrogeo-sc\">\n",
      "   USGS Astrogeology Science Center\n",
      "  </a>\n",
      " </div>\n",
      "</footer>\n",
      "<!--\r\n",
      "\t\t<div class=\"credit\">\r\n",
      "\t\t\t<small>Background Credits: NASA/USGS</small>\r\n",
      "\t\t</div>\r\n",
      "-->\n",
      "<div class=\"page-background\" style=\"\r\n",
      "\t\t\tbackground:url('/images/backgrounds/mars.jpg');\r\n",
      "\t\t\tfilter:progid:DXImageTransform.Microsoft.AlphaImageLoader(\r\n",
      "\t\t\t\tsrc='/images/backgrounds/mars.jpg', sizingMethod='scale');\r\n",
      "\t\t\">\n",
      "</div>\n",
      "<script type=\"text/javascript\">\n",
      " var baseUrl = \"\";\r\n",
      "\r\n",
      "/*\r\n",
      "var _gaq = _gaq || [];_gaq.push(['_setAccount', 'UA-27613186-1']);_gaq.push(['_trackPageview']);(function() { var ga = document.createElement('script'); ga.type = 'text/javascript'; ga.async = true;ga.src = ('https:' == document.location.protocol ? 'https://ssl' : 'http://www') + '.google-analytics.com/ga.js'; var s = document.getElementsByTagName('script')[0]; s.parentNode.insertBefore(ga, s);})();\r\n",
      "*/\n",
      "</script>\n",
      "<script src=\"https://ajax.googleapis.com/ajax/libs/jquery/1.11.1/jquery.min.js\" type=\"text/javascript\">\n",
      "</script>\n",
      "<script src=\"//ajax.googleapis.com/ajax/libs/jqueryui/1.11.3/jquery-ui.min.js\" type=\"text/javascript\">\n",
      "</script>\n",
      "<script src=\"/js/general.js\" type=\"text/javascript\">\n",
      "</script>\n",
      "\n"
     ]
    }
   ],
   "source": [
    "# Examine the results, then determine element that contains sought info\n",
    "print(soup.prettify())"
   ]
  },
  {
   "cell_type": "code",
   "execution_count": 21,
   "metadata": {},
   "outputs": [
    {
     "data": {
      "text/plain": [
       "4"
      ]
     },
     "execution_count": 21,
     "metadata": {},
     "output_type": "execute_result"
    }
   ],
   "source": [
    "# results are returned as an iterable list\n",
    "results = soup.find_all('div', class_=\"item\")\n",
    "len(results)"
   ]
  },
  {
   "cell_type": "code",
   "execution_count": 22,
   "metadata": {},
   "outputs": [
    {
     "name": "stdout",
     "output_type": "stream",
     "text": [
      "<div class=\"item\">\n",
      " <a class=\"itemLink product-item\" href=\"/search/map/Mars/Viking/cerberus_enhanced\">\n",
      "  <img alt=\"Cerberus Hemisphere Enhanced thumbnail\" class=\"thumb\" src=\"/cache/images/39d3266553462198bd2fbc4d18fbed17_cerberus_enhanced.tif_thumb.png\"/>\n",
      "  <div class=\"description\">\n",
      "   <h3>\n",
      "    Cerberus Hemisphere Enhanced\n",
      "   </h3>\n",
      "  </div>\n",
      " </a>\n",
      " <span class=\"subtitle\" style=\"float:left\">\n",
      "  image/tiff 21 MB\n",
      " </span>\n",
      " <span class=\"pubDate\" style=\"float:right\">\n",
      " </span>\n",
      " <br/>\n",
      " <p>\n",
      "  Mosaic of the Cerberus hemisphere of Mars projected into point perspective, a view similar to that which one would see from a spacecraft. This mosaic is composed of 104 Viking Orbiter images acquired…\n",
      " </p>\n",
      "</div>\n",
      "\n"
     ]
    }
   ],
   "source": [
    "#check if results contain what we need\n",
    "print(results[0].prettify())"
   ]
  },
  {
   "cell_type": "code",
   "execution_count": 23,
   "metadata": {},
   "outputs": [
    {
     "name": "stdout",
     "output_type": "stream",
     "text": [
      "{'title': 'Cerberus Hemisphere Enhanced', 'image': '/cache/images/39d3266553462198bd2fbc4d18fbed17_cerberus_enhanced.tif_thumb.png'}\n",
      "{'title': 'Schiaparelli Hemisphere Enhanced', 'image': '/cache/images/08eac6e22c07fb1fe72223a79252de20_schiaparelli_enhanced.tif_thumb.png'}\n",
      "{'title': 'Syrtis Major Hemisphere Enhanced', 'image': '/cache/images/55a0a1e2796313fdeafb17c35925e8ac_syrtis_major_enhanced.tif_thumb.png'}\n",
      "{'title': 'Valles Marineris Hemisphere Enhanced', 'image': '/cache/images/4e59980c1c57f89c680c0e1ccabbeff1_valles_marineris_enhanced.tif_thumb.png'}\n"
     ]
    },
    {
     "data": {
      "text/plain": [
       "[{'title': 'Cerberus Hemisphere Enhanced',\n",
       "  'image': '/cache/images/39d3266553462198bd2fbc4d18fbed17_cerberus_enhanced.tif_thumb.png'},\n",
       " {'title': 'Schiaparelli Hemisphere Enhanced',\n",
       "  'image': '/cache/images/08eac6e22c07fb1fe72223a79252de20_schiaparelli_enhanced.tif_thumb.png'},\n",
       " {'title': 'Syrtis Major Hemisphere Enhanced',\n",
       "  'image': '/cache/images/55a0a1e2796313fdeafb17c35925e8ac_syrtis_major_enhanced.tif_thumb.png'},\n",
       " {'title': 'Valles Marineris Hemisphere Enhanced',\n",
       "  'image': '/cache/images/4e59980c1c57f89c680c0e1ccabbeff1_valles_marineris_enhanced.tif_thumb.png'}]"
      ]
     },
     "execution_count": 23,
     "metadata": {},
     "output_type": "execute_result"
    }
   ],
   "source": [
    "# Loop through returned results\n",
    "img_url = []\n",
    "title = []\n",
    "hemisphere_image_urls = []\n",
    "for result in results:\n",
    "    # Error handling\n",
    "    try:\n",
    "        # Identify and return news titles\n",
    "        h3 = result.find('h3').text\n",
    "        # Identify and return news teasers \n",
    "        img = result.find('img', class_='thumb')['src']\n",
    "        \n",
    "\n",
    "        # Print results only if title, and url are available\n",
    "        if (h3 and img):\n",
    "            data = {\n",
    "                \"title\": h3,\n",
    "                \"image\": img\n",
    "            }\n",
    "            \n",
    "            print(data)\n",
    "            hemisphere_image_urls.append({\"title\": h3, \"image\": img})\n",
    "            \n",
    "    except Exception as e:\n",
    "        print(e)\n",
    "    \n",
    "hemisphere_image_urls"
   ]
  },
  {
   "cell_type": "markdown",
   "metadata": {},
   "source": [
    "# Insert into Mongo DB"
   ]
  },
  {
   "cell_type": "code",
   "execution_count": 24,
   "metadata": {},
   "outputs": [],
   "source": [
    "def scrape_all():\n",
    "    \n",
    "    #populated variables from the functions\n",
    "    headline_date,news_title, news_p  = mars_news()\n",
    "    featured_img_url = featured_image()\n",
    "    mars_facts_html = mars_facts()\n",
    "\n",
    "    #assemble the document to insert into the database\n",
    "    nasa_document = {\n",
    "        'news_date': headline_date,\n",
    "        'news_title': news_title,\n",
    "        'news_paragraph': news_p,\n",
    "        'featured_img_url': featured_img_url,\n",
    "        'mars_facts_html': mars_facts_html\n",
    "    }\n",
    "\n",
    "    return nasa_document\n",
    "\n"
   ]
  },
  {
   "cell_type": "code",
   "execution_count": 25,
   "metadata": {},
   "outputs": [
    {
     "name": "stdout",
     "output_type": "stream",
     "text": [
      "/spaceimages/images/wallpaper/PIA18292-1920x1200.jpg\n",
      "/spaceimages/images/mediumsize/PIA18292_ip.jpg\n"
     ]
    },
    {
     "data": {
      "text/plain": [
       "{'news_date': 'December 22, 2020',\n",
       " 'news_title': \"A Martian Roundtrip: NASA's Perseverance Rover Sample Tubes\",\n",
       " 'news_paragraph': \"Marvels of engineering, the rover's sample tubes must be tough enough to safely bring Red Planet samples on the long journey back to Earth in immaculate condition. \",\n",
       " 'featured_img_url': 'https://www.jp1.nasa.gov/spaceimages/images/mediumsize/PIA18292_ip.jpg',\n",
       " 'mars_facts_html': '<table border=\"1\" class=\"dataframe table table-striped\">\\n  <thead>\\n    <tr style=\"text-align: right;\">\\n      <th></th>\\n      <th>Description</th>\\n      <th>Mars</th>\\n    </tr>\\n  </thead>\\n  <tbody>\\n    <tr>\\n      <th>0</th>\\n      <td>Equatorial Diameter:</td>\\n      <td>6,792 km</td>\\n    </tr>\\n    <tr>\\n      <th>1</th>\\n      <td>Polar Diameter:</td>\\n      <td>6,752 km</td>\\n    </tr>\\n    <tr>\\n      <th>2</th>\\n      <td>Mass:</td>\\n      <td>6.39 × 10^23 kg (0.11 Earths)</td>\\n    </tr>\\n    <tr>\\n      <th>3</th>\\n      <td>Moons:</td>\\n      <td>2 (Phobos &amp; Deimos)</td>\\n    </tr>\\n    <tr>\\n      <th>4</th>\\n      <td>Orbit Distance:</td>\\n      <td>227,943,824 km (1.38 AU)</td>\\n    </tr>\\n    <tr>\\n      <th>5</th>\\n      <td>Orbit Period:</td>\\n      <td>687 days (1.9 years)</td>\\n    </tr>\\n    <tr>\\n      <th>6</th>\\n      <td>Surface Temperature:</td>\\n      <td>-87 to -5 °C</td>\\n    </tr>\\n    <tr>\\n      <th>7</th>\\n      <td>First Record:</td>\\n      <td>2nd millennium BC</td>\\n    </tr>\\n    <tr>\\n      <th>8</th>\\n      <td>Recorded By:</td>\\n      <td>Egyptian astronomers</td>\\n    </tr>\\n  </tbody>\\n</table>'}"
      ]
     },
     "execution_count": 25,
     "metadata": {},
     "output_type": "execute_result"
    }
   ],
   "source": [
    "scrape_all()"
   ]
  },
  {
   "cell_type": "code",
   "execution_count": 26,
   "metadata": {},
   "outputs": [
    {
     "name": "stdout",
     "output_type": "stream",
     "text": [
      "/spaceimages/images/wallpaper/PIA18292-1920x1200.jpg\n",
      "/spaceimages/images/mediumsize/PIA18292_ip.jpg\n"
     ]
    },
    {
     "data": {
      "text/plain": [
       "<pymongo.results.UpdateResult at 0x24de84f2d00>"
      ]
     },
     "execution_count": 26,
     "metadata": {},
     "output_type": "execute_result"
    }
   ],
   "source": [
    "#Connect to Mongodb\n",
    "conn = 'mongodb://localhost:27017'\n",
    "client = pymongo.MongoClient(conn)\n",
    "\n",
    "#connect to mars_app database\n",
    "db = client.mars_app\n",
    "\n",
    "#Connect to mars collection\n",
    "mars = db.mars\n",
    "\n",
    "#gather document to insert\n",
    "data_document = scrape_all()\n",
    "\n",
    "#Insert\n",
    "mars.update_one({},{'$set': data_document},upsert=True)\n",
    "\n",
    "#upsert into mars collection (preferred to avoid duplicates)\n",
    "\n",
    "\n"
   ]
  },
  {
   "cell_type": "code",
   "execution_count": null,
   "metadata": {},
   "outputs": [],
   "source": []
  },
  {
   "cell_type": "code",
   "execution_count": null,
   "metadata": {},
   "outputs": [],
   "source": []
  }
 ],
 "metadata": {
  "kernelspec": {
   "display_name": "Python 3",
   "language": "python",
   "name": "python3"
  },
  "language_info": {
   "codemirror_mode": {
    "name": "ipython",
    "version": 3
   },
   "file_extension": ".py",
   "mimetype": "text/x-python",
   "name": "python",
   "nbconvert_exporter": "python",
   "pygments_lexer": "ipython3",
   "version": "3.8.3"
  }
 },
 "nbformat": 4,
 "nbformat_minor": 4
}
